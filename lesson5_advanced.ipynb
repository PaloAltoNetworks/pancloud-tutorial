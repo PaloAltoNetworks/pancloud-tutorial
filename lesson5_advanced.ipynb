{
 "cells": [
  {
   "cell_type": "markdown",
   "metadata": {
    "deletable": false,
    "editable": false,
    "run_control": {
     "frozen": true
    }
   },
   "source": [
    "# Lesson 5 - Advanced Queries"
   ]
  },
  {
   "cell_type": "markdown",
   "metadata": {
    "cell_style": "center",
    "deletable": false,
    "editable": false,
    "run_control": {
     "frozen": true
    }
   },
   "source": [
    "## Overview\n",
    "\n",
    "In Lesson 3 you stepped through a basic Logging Service `query` and `poll` example. You may have noticed we provided a SQL statement in the JSON payload we passed using the `query()` method. Although the Logging Service provides support for the SQL language, this support is limited to a partial implementation of the `SQL SELECT` statement and some common operators and functions.\n",
    "\n",
    "In this lesson we'll step through a few more examples demonstrating the use of some of these SQL functions and operators."
   ]
  },
  {
   "cell_type": "markdown",
   "metadata": {},
   "source": [
    "**Step 1: Import**\n",
    "First let's start by importing `LoggingService` and `Credentials`"
   ]
  },
  {
   "cell_type": "code",
   "execution_count": null,
   "metadata": {},
   "outputs": [],
   "source": [
    "from pancloud import LoggingService, Credentials"
   ]
  },
  {
   "cell_type": "markdown",
   "metadata": {},
   "source": [
    "**Step 2: Instantiate**\n",
    "Next we'll create our `LoggingService` instance"
   ]
  },
  {
   "cell_type": "code",
   "execution_count": null,
   "metadata": {},
   "outputs": [],
   "source": [
    "\n",
    "ls = LoggingService(credentials=Credentials())"
   ]
  },
  {
   "cell_type": "markdown",
   "metadata": {},
   "source": [
    "**Step 3: Query**"
   ]
  },
  {
   "cell_type": "code",
   "execution_count": null,
   "metadata": {},
   "outputs": [],
   "source": [
    "d = {\n",
    "    \"query\": \"SELECT * FROM panw.traffic limit 500\",\n",
    "    \"startTime\": 0,  # 1970\n",
    "    \"endTime\": 1609459200,  # 2021\n",
    "    \"maxWaitTime\": 0  # guarantees no logs in initial response\n",
    "}\n",
    "\n",
    "# Query the Logging Service\n",
    "q = ls.query(json=d)"
   ]
  },
  {
   "cell_type": "markdown",
   "metadata": {},
   "source": [
    "Let's take a peek at the raw response"
   ]
  },
  {
   "cell_type": "code",
   "execution_count": null,
   "metadata": {},
   "outputs": [],
   "source": [
    "q.text"
   ]
  },
  {
   "cell_type": "markdown",
   "metadata": {},
   "source": [
    "**Step 4: Poll for results**"
   ]
  },
  {
   "cell_type": "code",
   "execution_count": null,
   "metadata": {},
   "outputs": [],
   "source": [
    "query_id = q.json()['queryId']  # access 'queryId' from 'query' response\n",
    "\n",
    "params = {  # Prepare 'poll' parameters\n",
    "    \"maxWaitTime\": 3000\n",
    "}\n",
    "\n",
    "# Poll 'query' for results\n",
    "p = ls.poll(\n",
    "    query_id=query_id, \n",
    "    sequence_no=0, \n",
    "    params=params\n",
    ")"
   ]
  },
  {
   "cell_type": "markdown",
   "metadata": {},
   "source": [
    "Now let's take a peek at the results"
   ]
  },
  {
   "cell_type": "code",
   "execution_count": null,
   "metadata": {},
   "outputs": [],
   "source": [
    "p.text"
   ]
  },
  {
   "cell_type": "markdown",
   "metadata": {},
   "source": [
    "**Step 5: Print results in tabular format**"
   ]
  },
  {
   "cell_type": "code",
   "execution_count": null,
   "metadata": {},
   "outputs": [],
   "source": [
    "!pip install tabulate"
   ]
  },
  {
   "cell_type": "code",
   "execution_count": null,
   "metadata": {},
   "outputs": [],
   "source": [
    "from tabulate import tabulate\n",
    "\n",
    "r_json = p.json()\n",
    "logs = r_json['result']['esResult']['hits']['hits']\n",
    "\n",
    "header = ['app', 'count']\n",
    "rows = []\n",
    "for log in logs:\n",
    "    app = log.get('app')\n",
    "\n",
    "tabulate(rows, header=header[0])"
   ]
  }
 ],
 "metadata": {
  "kernelspec": {
   "display_name": "Python 3",
   "language": "python",
   "name": "python3"
  },
  "language_info": {
   "codemirror_mode": {
    "name": "ipython",
    "version": 3
   },
   "file_extension": ".py",
   "mimetype": "text/x-python",
   "name": "python",
   "nbconvert_exporter": "python",
   "pygments_lexer": "ipython3",
   "version": "3.6.4"
  },
  "varInspector": {
   "cols": {
    "lenName": 16.0,
    "lenType": 16.0,
    "lenVar": 40.0
   },
   "kernels_config": {
    "python": {
     "delete_cmd_postfix": "",
     "delete_cmd_prefix": "del ",
     "library": "var_list.py",
     "varRefreshCmd": "print(var_dic_list())"
    },
    "r": {
     "delete_cmd_postfix": ") ",
     "delete_cmd_prefix": "rm(",
     "library": "var_list.r",
     "varRefreshCmd": "cat(var_dic_list()) "
    }
   },
   "oldHeight": 123.0,
   "position": {
    "height": "314px",
    "left": "895px",
    "right": "101px",
    "top": "138px",
    "width": "323px"
   },
   "types_to_exclude": [
    "module",
    "function",
    "builtin_function_or_method",
    "instance",
    "_Feature"
   ],
   "varInspector_section_display": "block",
   "window_display": false
  }
 },
 "nbformat": 4,
 "nbformat_minor": 2
}
