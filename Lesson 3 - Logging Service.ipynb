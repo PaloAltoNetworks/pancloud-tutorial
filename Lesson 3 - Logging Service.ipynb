{
 "cells": [
  {
   "cell_type": "markdown",
   "metadata": {
    "deletable": false,
    "editable": false,
    "run_control": {
     "frozen": true
    }
   },
   "source": [
    "# Lesson 3 - Logging Service"
   ]
  },
  {
   "cell_type": "markdown",
   "metadata": {
    "deletable": false,
    "editable": false,
    "run_control": {
     "frozen": true
    }
   },
   "source": [
    "## Overview\n",
    "\n",
    "The Logging Service is a Palo Alto Networks cloud service which allows\n",
    "for the storage and retrieval of logging data. Any type of textual\n",
    "logging data can be stored in the Logging Service. Palo Alto Networks\n",
    "firewalls and software can write logging data to this service, as can\n",
    "the software and services created by Palo Alto Network's various\n",
    "partners.\n",
    "\n",
    "The `pancloud` SDK comes packaged with a client library for interacting with\n",
    "the Logging Service. In addition to low-level coverage of the API, the `LoggingService`\n",
    "class also provides helper methods for performing log pagination.\n",
    "\n",
    "In this lesson we'll step through the process of generating, accessing, storing and refreshing credentials.\n",
    "\n",
    "> **Note:** Run the following code cells using the <button class=\"btn btn-default btn-xs\"><i class=\"fa-step-forward fa\"></i><span class=\"toolbar-btn-label\">Run</span></button> button or `Shift-Enter`."
   ]
  },
  {
   "cell_type": "markdown",
   "metadata": {
    "deletable": false,
    "editable": false,
    "run_control": {
     "frozen": true
    }
   },
   "source": [
    "**Step 1: Import LoggingService**  \n",
    "To get started, you will first need to import the `LoggingService` class."
   ]
  },
  {
   "cell_type": "code",
   "execution_count": 1,
   "metadata": {
    "ExecuteTime": {
     "end_time": "2018-07-31T19:13:20.645202Z",
     "start_time": "2018-07-31T19:13:20.553108Z"
    },
    "deletable": false,
    "editable": false
   },
   "outputs": [],
   "source": [
    "from pancloud import LoggingService"
   ]
  },
  {
   "cell_type": "markdown",
   "metadata": {
    "deletable": false,
    "editable": false
   },
   "source": [
    "Since we're planning to access protected API endpoints, we'll also need `Credentials`."
   ]
  },
  {
   "cell_type": "code",
   "execution_count": 2,
   "metadata": {
    "ExecuteTime": {
     "end_time": "2018-07-31T19:13:22.867272Z",
     "start_time": "2018-07-31T19:13:22.864861Z"
    },
    "deletable": false,
    "editable": false
   },
   "outputs": [],
   "source": [
    "from pancloud import Credentials"
   ]
  },
  {
   "cell_type": "markdown",
   "metadata": {
    "deletable": false,
    "editable": false
   },
   "source": [
    "**Step 2: Instantiate LoggingService class**\n",
    "\n",
    "> **Note:** Passing `credentials` into a `LoggingService` instance will automatically handle applying the `access_token` to the authorization header."
   ]
  },
  {
   "cell_type": "code",
   "execution_count": 3,
   "metadata": {
    "ExecuteTime": {
     "end_time": "2018-07-31T19:13:28.264036Z",
     "start_time": "2018-07-31T19:13:28.249509Z"
    },
    "deletable": false,
    "editable": false,
    "run_control": {
     "frozen": true
    }
   },
   "outputs": [],
   "source": [
    "# API Gateway URL\n",
    "url = 'https://apigw-stg4.us.paloaltonetworks.com'\n",
    "\n",
    "ls = LoggingService(url=url, credentials=Credentials())"
   ]
  },
  {
   "cell_type": "markdown",
   "metadata": {},
   "source": [
    "**Step 3: Query**\n",
    "Let's start with a basic `query()` example"
   ]
  },
  {
   "cell_type": "code",
   "execution_count": 4,
   "metadata": {
    "ExecuteTime": {
     "end_time": "2018-07-31T19:13:34.175793Z",
     "start_time": "2018-07-31T19:13:33.760017Z"
    }
   },
   "outputs": [],
   "source": [
    "d = {\n",
    "    \"query\": \"select * from panw.traffic limit 1\",\n",
    "    \"startTime\": 0,  # 1970\n",
    "    \"endTime\": 1609459200,  # 2021\n",
    "    \"maxWaitTime\": 0  # guarantees no logs in initial response\n",
    "}\n",
    "\n",
    "# Query the Logging Service\n",
    "q = ls.query(json=d)"
   ]
  },
  {
   "cell_type": "markdown",
   "metadata": {},
   "source": [
    "Now that we've performed a `query()`, let's take a peek at the raw, JSON response."
   ]
  },
  {
   "cell_type": "code",
   "execution_count": 5,
   "metadata": {
    "ExecuteTime": {
     "end_time": "2018-07-31T19:13:36.207318Z",
     "start_time": "2018-07-31T19:13:36.198879Z"
    }
   },
   "outputs": [
    {
     "data": {
      "text/plain": [
       "'{\"queryId\":\"af1a9d5a-8f88-441a-8061-1c7db78f0746\",\"sequenceNo\":0,\"queryStatus\":\"RUNNING\",\"clientParameters\":{},\"result\":{\"esResult\":null,\"esQuery\":{\"table\":[\"panw.traffic\"],\"query\":{\"aggregations\":{},\"size\":1},\"selections\":[],\"params\":{}}}}'"
      ]
     },
     "execution_count": 5,
     "metadata": {},
     "output_type": "execute_result"
    }
   ],
   "source": [
    "q.text"
   ]
  },
  {
   "cell_type": "markdown",
   "metadata": {},
   "source": [
    "Use the built-in `json()` method to convert the raw response into a python `dict` object."
   ]
  },
  {
   "cell_type": "code",
   "execution_count": 6,
   "metadata": {
    "ExecuteTime": {
     "end_time": "2018-07-31T19:13:39.149428Z",
     "start_time": "2018-07-31T19:13:39.145166Z"
    }
   },
   "outputs": [
    {
     "data": {
      "text/plain": [
       "{'queryId': 'af1a9d5a-8f88-441a-8061-1c7db78f0746',\n",
       " 'sequenceNo': 0,\n",
       " 'queryStatus': 'RUNNING',\n",
       " 'clientParameters': {},\n",
       " 'result': {'esResult': None,\n",
       "  'esQuery': {'table': ['panw.traffic'],\n",
       "   'query': {'aggregations': {}, 'size': 1},\n",
       "   'selections': [],\n",
       "   'params': {}}}}"
      ]
     },
     "execution_count": 6,
     "metadata": {},
     "output_type": "execute_result"
    }
   ],
   "source": [
    "q.json()"
   ]
  },
  {
   "cell_type": "markdown",
   "metadata": {
    "deletable": false,
    "editable": false,
    "run_control": {
     "frozen": true
    }
   },
   "source": [
    "**Step 4: Poll**\n",
    "Let's use the `queryId` to `poll()` for results"
   ]
  },
  {
   "cell_type": "code",
   "execution_count": 7,
   "metadata": {
    "ExecuteTime": {
     "end_time": "2018-07-31T19:13:42.785204Z",
     "start_time": "2018-07-31T19:13:42.688826Z"
    }
   },
   "outputs": [],
   "source": [
    "query_id = q.json()['queryId']  # access 'queryId' from 'query' response\n",
    "\n",
    "params = {  # Prepare 'poll' parameters\n",
    "    \"maxWaitTime\": 3000\n",
    "}\n",
    "\n",
    "# Poll 'query' for results\n",
    "p = ls.poll(\n",
    "    query_id=query_id, \n",
    "    sequence_no=0, \n",
    "    params=params\n",
    ")"
   ]
  },
  {
   "cell_type": "markdown",
   "metadata": {},
   "source": [
    "Now that we've performed a `poll()`, let's take a peek at the raw, JSON response."
   ]
  },
  {
   "cell_type": "code",
   "execution_count": 8,
   "metadata": {
    "ExecuteTime": {
     "end_time": "2018-07-31T19:13:45.309751Z",
     "start_time": "2018-07-31T19:13:45.305934Z"
    }
   },
   "outputs": [
    {
     "data": {
      "text/plain": [
       "'{\"queryId\":\"af1a9d5a-8f88-441a-8061-1c7db78f0746\",\"sequenceNo\":0,\"queryStatus\":\"JOB_FINISHED\",\"clientParameters\":{},\"result\":{\"esResult\":{\"took\":120,\"hits\":{\"total\":72045,\"maxScore\":2,\"hits\":[{\"_index\":\"147278001_panw.all_2018073000-2018080900_000000\",\"_type\":\"traffic\",\"_id\":\"147278001_lcaas:0:23188:1\",\"_score\":2,\"_source\":{\"risk-of-app\":\"4\",\"logset\":\"ForwardToLoggingService\",\"bytes_received\":2053,\"natsport\":24969,\"sessionid\":423752,\"type\":\"traffic\",\"parent_start_time\":0,\"packets\":17,\"characteristic-of-app\":[\"able-to-transfer-file\",\"has-known-vulnerability\",\"tunnel-other-application\",\"prone-to-misuse\",\"is-saas\"],\"dg_hier_level_4\":0,\"dg_hier_level_1\":11,\"dg_hier_level_3\":0,\"dg_hier_level_2\":0,\"action\":\"allow\",\"recsize\":1524,\"from\":\"L3-Untrust\",\"parent_session_id\":0,\"repeatcnt\":1,\"app\":\"ms-rdp\",\"vsys\":\"vsys1\",\"nat\":1,\"technology-of-app\":\"client-server\",\"pkts_received\":8,\"chunks_sent\":0,\"receive_time\":1532908827,\"non-standard-dport\":0,\"subcategory-of-app\":\"remote-access\",\"chunks_received"
      ]
     },
     "execution_count": 8,
     "metadata": {},
     "output_type": "execute_result"
    },
    {
     "data": {
      "text/html": [
       "<b>limit_output extension: Maximum message size of 1000 exceeded with 2140 characters</b>"
      ]
     },
     "metadata": {},
     "output_type": "display_data"
    }
   ],
   "source": [
    "p.text"
   ]
  },
  {
   "cell_type": "markdown",
   "metadata": {},
   "source": [
    "Use the `json()` method to convert the raw response into a python `dict` object."
   ]
  },
  {
   "cell_type": "code",
   "execution_count": 9,
   "metadata": {
    "ExecuteTime": {
     "end_time": "2018-07-31T19:13:47.918923Z",
     "start_time": "2018-07-31T19:13:47.913541Z"
    }
   },
   "outputs": [
    {
     "data": {
      "text/plain": [
       "{'queryId': 'af1a9d5a-8f88-441a-8061-1c7db78f0746',\n",
       " 'sequenceNo': 0,\n",
       " 'queryStatus': 'JOB_FINISHED',\n",
       " 'clientParameters': {},\n",
       " 'result': {'esResult': {'took': 120,\n",
       "   'hits': {'total': 72045,\n",
       "    'maxScore': 2,\n",
       "    'hits': [{'_index': '147278001_panw.all_2018073000-2018080900_000000',\n",
       "      '_type': 'traffic',\n",
       "      '_id': '147278001_lcaas:0:23188:1',\n",
       "      '_score': 2,\n",
       "      '_source': {'risk-of-app': '4',\n",
       "       'logset': 'ForwardToLoggingService',\n",
       "       'bytes_received': 2053,\n",
       "       'natsport': 24969,\n",
       "       'sessionid': 423752,\n",
       "       'type': 'traffic',\n",
       "       'parent_start_time': 0,\n",
       "       'packets': 17,\n",
       "       'characteristic-of-app': ['able-to-transfer-file',\n",
       "        'has-known-vulnerability',\n",
       "        'tunnel-other-application',\n",
       "        'prone-to-misuse',\n",
       "        'is-saas'],\n",
       "       'dg_hier_level_4': 0,\n",
       "       'dg_hier_level_1': 11,\n",
       "       'dg_hier_level_3': 0,\n",
       "       'dg_hier_level_2': 0,\n",
       "       'action': 'allow',\n",
       "       'recsize': 1524,\n",
       "       'from': 'L3-Untrust',\n",
       "       '"
      ]
     },
     "execution_count": 9,
     "metadata": {},
     "output_type": "execute_result"
    },
    {
     "data": {
      "text/html": [
       "<b>limit_output extension: Maximum message size of 1000 exceeded with 2933 characters</b>"
      ]
     },
     "metadata": {},
     "output_type": "display_data"
    }
   ],
   "source": [
    "p.json()"
   ]
  },
  {
   "cell_type": "code",
   "execution_count": null,
   "metadata": {},
   "outputs": [],
   "source": []
  }
 ],
 "metadata": {
  "kernelspec": {
   "display_name": "Python 3",
   "language": "python",
   "name": "python3"
  },
  "language_info": {
   "codemirror_mode": {
    "name": "ipython",
    "version": 3
   },
   "file_extension": ".py",
   "mimetype": "text/x-python",
   "name": "python",
   "nbconvert_exporter": "python",
   "pygments_lexer": "ipython3",
   "version": "3.7.0"
  },
  "varInspector": {
   "cols": {
    "lenName": 16,
    "lenType": 16,
    "lenVar": 40
   },
   "kernels_config": {
    "python": {
     "delete_cmd_postfix": "",
     "delete_cmd_prefix": "del ",
     "library": "var_list.py",
     "varRefreshCmd": "print(var_dic_list())"
    },
    "r": {
     "delete_cmd_postfix": ") ",
     "delete_cmd_prefix": "rm(",
     "library": "var_list.r",
     "varRefreshCmd": "cat(var_dic_list()) "
    }
   },
   "types_to_exclude": [
    "module",
    "function",
    "builtin_function_or_method",
    "instance",
    "_Feature"
   ],
   "window_display": false
  }
 },
 "nbformat": 4,
 "nbformat_minor": 2
}
