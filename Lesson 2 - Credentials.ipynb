{
 "cells": [
  {
   "cell_type": "markdown",
   "metadata": {
    "deletable": false,
    "editable": false,
    "run_control": {
     "frozen": true
    }
   },
   "source": [
    "# Lesson 2 - Credentials"
   ]
  },
  {
   "cell_type": "markdown",
   "metadata": {
    "deletable": false,
    "editable": false,
    "run_control": {
     "frozen": true
    }
   },
   "source": [
    "## Overview\n",
    "\n",
    "The Application Framework implements OAuth 2.0 for delegating access to your Logging, Event and Directory Sync services.\n",
    "\n",
    "The `pancloud` SDK comes packaged with OAuth 2.0 support to ease the process of:\n",
    "\n",
    "- Generating an authorization URL\n",
    "- Exchanging an authz code for tokens (authorization code grant)\n",
    "- Refreshing tokens\n",
    "- Revoking tokens\n",
    "- Token caching\n",
    "- Using a custom credentials store (storage adapters)\n",
    "\n",
    "In this lesson we'll step through the process of generating, accessing, storing and refreshing credentials.\n",
    "\n",
    "> **Note:** Run the following code cells using the <button class=\"btn btn-default btn-xs\"><i class=\"fa-step-forward fa\"></i><span class=\"toolbar-btn-label\">Run</span></button> button or `Shift-Enter`."
   ]
  },
  {
   "cell_type": "markdown",
   "metadata": {},
   "source": [
    "**Step 0: Install TinyDB**  \n",
    "The TinyDB package is required by the default credentials store"
   ]
  },
  {
   "cell_type": "code",
   "execution_count": null,
   "metadata": {},
   "outputs": [],
   "source": [
    "!pip install tinydb"
   ]
  },
  {
   "cell_type": "markdown",
   "metadata": {
    "deletable": false,
    "editable": false,
    "run_control": {
     "frozen": true
    }
   },
   "source": [
    "**Step 1: Import Credentials**  \n",
    "To get started, you will first need to import the `Credentials` class"
   ]
  },
  {
   "cell_type": "code",
   "execution_count": null,
   "metadata": {
    "deletable": false,
    "editable": false
   },
   "outputs": [],
   "source": [
    "from pancloud import Credentials"
   ]
  },
  {
   "cell_type": "markdown",
   "metadata": {
    "deletable": false,
    "editable": false,
    "run_control": {
     "frozen": true
    }
   },
   "source": [
    "**Step 2: Instantiate credentials class**  \n",
    "Next, let's construct a credentials instance using \"dummy\" credentials."
   ]
  },
  {
   "cell_type": "code",
   "execution_count": null,
   "metadata": {
    "deletable": false,
    "editable": false
   },
   "outputs": [],
   "source": [
    "c = Credentials(\n",
    "    access_token='instance_access_token',\n",
    "    client_id='instance_client_id',\n",
    "    client_secret='instance_client_secret',\n",
    "    refresh_token='instance_refresh_token'\n",
    ")"
   ]
  },
  {
   "cell_type": "markdown",
   "metadata": {
    "deletable": false,
    "editable": false,
    "run_control": {
     "frozen": true
    }
   },
   "source": [
    "At this point, a `Credentials` object has been created and assigned to the variable `c`. Let's try to access its properties."
   ]
  },
  {
   "cell_type": "markdown",
   "metadata": {
    "deletable": false,
    "editable": false,
    "run_control": {
     "frozen": true
    }
   },
   "source": [
    "**Step 3: Accessing Credentials**  \n",
    "The `Credentials` class provides easy access to your `client_id`, `client_secret`, `refresh_token` and `access_token`. Let's take a peek at the credentials we set in the previous step."
   ]
  },
  {
   "cell_type": "code",
   "execution_count": null,
   "metadata": {
    "deletable": false,
    "editable": false,
    "scrolled": true
   },
   "outputs": [],
   "source": [
    "c.access_token"
   ]
  },
  {
   "cell_type": "code",
   "execution_count": null,
   "metadata": {},
   "outputs": [],
   "source": [
    "c.client_id"
   ]
  },
  {
   "cell_type": "code",
   "execution_count": null,
   "metadata": {},
   "outputs": [],
   "source": [
    "c.client_secret"
   ]
  },
  {
   "cell_type": "code",
   "execution_count": null,
   "metadata": {},
   "outputs": [],
   "source": [
    "c.refresh_token"
   ]
  },
  {
   "cell_type": "markdown",
   "metadata": {},
   "source": [
    "Accessing credentials one at a time can be useful but what if you need them all at once? Let's try using the `get_credentials()` method which returns a read-only, `namedtuple` representation of the credentials."
   ]
  },
  {
   "cell_type": "code",
   "execution_count": null,
   "metadata": {},
   "outputs": [],
   "source": [
    "c.get_credentials()"
   ]
  },
  {
   "cell_type": "markdown",
   "metadata": {},
   "source": [
    "> **Note:** The `get_credentials()` method returns a snapshot of the most current credentials at the time it is executed."
   ]
  },
  {
   "cell_type": "markdown",
   "metadata": {},
   "source": [
    "**Step 4: Refreshing Tokens**\n",
    "The minimal credentials needed to perform a `refresh()` are `client_id`, `client_secret` and `refresh_token`. Let's try to perform a token `refresh()`.\n",
    "\n",
    "> **Note:** You should receive a `PanCloudError` and a message indicating \"Invalid client or client credentials\". Don't worry. This is expected behavior, since we are using \"dummy\" credentials. We'll try again later using valid credentials."
   ]
  },
  {
   "cell_type": "code",
   "execution_count": null,
   "metadata": {},
   "outputs": [],
   "source": [
    "c.refresh()"
   ]
  },
  {
   "cell_type": "markdown",
   "metadata": {},
   "source": [
    "These \"dummy\" credentials are ruining this session. Let's ditch them and try again."
   ]
  },
  {
   "cell_type": "code",
   "execution_count": null,
   "metadata": {},
   "outputs": [],
   "source": [
    "c = Credentials()\n",
    "c.refresh()"
   ]
  },
  {
   "cell_type": "markdown",
   "metadata": {},
   "source": [
    "If the `refresh()` operation succeeded it should have returned an `access_token`. To be sure we stored it, let's try reading it again as a property."
   ]
  },
  {
   "cell_type": "code",
   "execution_count": null,
   "metadata": {},
   "outputs": [],
   "source": [
    "c.access_token"
   ]
  },
  {
   "cell_type": "markdown",
   "metadata": {},
   "source": [
    "**Step 5: Credential Resolver**\n",
    "\n",
    "Another important feature of the `Credentials` class is its ability to look for credentials in different places, following a particular lookup order. The following describes this lookup pattern:\n",
    "\n",
    "`1.` Credentials passed as Credentials constructor key-word arguments:\n",
    "\n",
    "```python\n",
    "c = Credentials(\n",
    "    access_token=<access_token>,\n",
    "    client_id=<client_id>,\n",
    "    client_secret=<client_secret>,\n",
    "    refresh_token=<refresh_token>\n",
    ")\n",
    "```\n",
    "\n",
    "`2.` Credentials stored as environment variables:\n",
    "\n",
    "- `PAN_ACCESS_TOKEN`\n",
    "- `PAN_CLIENT_ID`\n",
    "- `PAN_CLIENT_SECRET`\n",
    "- `PAN_REFRESH_TOKEN`\n",
    "\n",
    "`3.` Credentials stored in a credentials file (~/.config/pancloud/credentials.json) or custom store:\n",
    "\n",
    "```json\n",
    "{\n",
    "    \"profiles\": {\n",
    "        \"1\": {\n",
    "            \"access_token\": <access_token>,\n",
    "            \"client_id\": <client_id>,\n",
    "            \"client_secret\": <client_secret>,\n",
    "            \"profile\": <profile>,\n",
    "            \"refresh_token\": <refresh_token>\n",
    "        }\n",
    "    }\n",
    "}\n",
    "```\n",
    "\n",
    "All clear? Now let's see it in action."
   ]
  },
  {
   "cell_type": "code",
   "execution_count": null,
   "metadata": {},
   "outputs": [],
   "source": [
    "# First, let's start with a fresh Credentials instance\n",
    "c = Credentials()\n",
    "\n",
    "# Read credentials from store\n",
    "c.get_credentials()\n",
    "\n",
    "# Set \"dummy\" credentials as environment variables\n",
    "%env PAN_ACCESS_TOKEN=envar_access_token\n",
    "%env PAN_CLIENT_ID=envar_client_id\n",
    "%env PAN_CLIENT_SECRET=envar_client_secret\n",
    "%env PAN_REFRESH_TOKEN=envar_refresh_token\n",
    "    \n",
    "# Read credentials from envars\n",
    "c.get_credentials()"
   ]
  },
  {
   "cell_type": "markdown",
   "metadata": {},
   "source": [
    "Now, the credentials are getting retrieved from environment variables. Let's try to override them by passing the `access_token` as a constructor argument."
   ]
  },
  {
   "cell_type": "code",
   "execution_count": null,
   "metadata": {},
   "outputs": [],
   "source": [
    "c = Credentials(access_token='instance_access_token')\n",
    "c.get_credentials()"
   ]
  },
  {
   "cell_type": "markdown",
   "metadata": {},
   "source": [
    "Let's see what happens if we try to `refresh()` now."
   ]
  },
  {
   "cell_type": "code",
   "execution_count": null,
   "metadata": {},
   "outputs": [],
   "source": [
    "c.refresh()"
   ]
  },
  {
   "cell_type": "markdown",
   "metadata": {},
   "source": [
    "Finally, let's delete our environment variables and start with a fresh `Credentials` instance to revert to our credentials store."
   ]
  },
  {
   "cell_type": "code",
   "execution_count": null,
   "metadata": {},
   "outputs": [],
   "source": [
    "import os\n",
    "del os.environ['PAN_ACCESS_TOKEN']\n",
    "del os.environ['PAN_CLIENT_ID']\n",
    "del os.environ['PAN_CLIENT_SECRET']\n",
    "del os.environ['PAN_REFRESH_TOKEN']\n",
    "\n",
    "c = Credentials()\n",
    "c.get_credentials()"
   ]
  },
  {
   "cell_type": "markdown",
   "metadata": {
    "deletable": false,
    "editable": false,
    "run_control": {
     "frozen": true
    }
   },
   "source": [
    "## Next steps\n",
    "\n",
    "This concludes the lesson on `Credentials`. Continue to [Lesson 3 - Logging Service](Lesson 3 - Logging Service.ipynb) to run some queries."
   ]
  }
 ],
 "metadata": {
  "kernelspec": {
   "display_name": "Python 3",
   "language": "python",
   "name": "python3"
  },
  "language_info": {
   "codemirror_mode": {
    "name": "ipython",
    "version": 3
   },
   "file_extension": ".py",
   "mimetype": "text/x-python",
   "name": "python",
   "nbconvert_exporter": "python",
   "pygments_lexer": "ipython3",
   "version": "3.6.4"
  },
  "varInspector": {
   "cols": {
    "lenName": 16.0,
    "lenType": 16.0,
    "lenVar": 40.0
   },
   "kernels_config": {
    "python": {
     "delete_cmd_postfix": "",
     "delete_cmd_prefix": "del ",
     "library": "var_list.py",
     "varRefreshCmd": "print(var_dic_list())"
    },
    "r": {
     "delete_cmd_postfix": ") ",
     "delete_cmd_prefix": "rm(",
     "library": "var_list.r",
     "varRefreshCmd": "cat(var_dic_list()) "
    }
   },
   "oldHeight": 123.0,
   "position": {
    "height": "314px",
    "left": "870px",
    "right": "136px",
    "top": "120px",
    "width": "323px"
   },
   "types_to_exclude": [
    "module",
    "function",
    "builtin_function_or_method",
    "instance",
    "_Feature"
   ],
   "varInspector_section_display": "block",
   "window_display": false
  }
 },
 "nbformat": 4,
 "nbformat_minor": 2
}
