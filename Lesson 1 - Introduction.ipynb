{
 "cells": [
  {
   "cell_type": "markdown",
   "metadata": {
    "deletable": false,
    "editable": false,
    "run_control": {
     "frozen": true
    }
   },
   "source": [
    "# Welcome to the PAN Cloud Python SDK tutorial!\n",
    "\n",
    "The Palo Alto Networks Cloud Python SDK (or pancloud for short) was created to empower developers to write innovative security solutions using the Palo Alto Networks Application Framework.\n",
    "\n",
    "The primary goal of this library is to provide full, low-level coverage of the following Application Framework services:\n",
    "\n",
    "- Logging Service\n",
    "- Directory Sync Service\n",
    "- Event Service\n",
    "\n",
    "The secondary goal is to provide coverage, in the form of helpers, for common tasks/operations.\n",
    "\n",
    "- Log/event pagination\n",
    "- OAuth 2.0 and token refreshing\n",
    "\n",
    "### Further reading on PAN Cloud Python SDK:\n",
    "\n",
    "- [PAN Cloud Python SDK Reference](http://pancloud.readthedocs.io/)\n",
    "- [Source code on GitHub](https://github.com/PaloAltoNetworks/pancloud)\n",
    "\n",
    "### Prerequisites\n",
    "\n",
    "- Intermediate-level understanding of the Python programming language\n",
    "\n",
    "### Helpful\n",
    "\n",
    "- Familiarity with the [Requests](http://requests.readthedocs.io/) library\n",
    "- Coffee\n"
   ]
  },
  {
   "cell_type": "markdown",
   "metadata": {
    "deletable": false,
    "editable": false,
    "run_control": {
     "frozen": true
    }
   },
   "source": [
    "## How to use Jupyter Notebooks\n",
    "\n",
    "To get started with Jupyter Notebooks you'll need to know a few tricks.\n",
    "\n",
    "1. How to run code\n",
    "2. How to reset everything\n",
    "3. How to switch notebooks\n",
    "4. Tab complete"
   ]
  },
  {
   "cell_type": "markdown",
   "metadata": {
    "collapsed": false
   },
   "source": [
    "## 1. How to run code\n",
    "\n",
    "To run a code cell, select the cell and type `Shift-Enter` or press the <button class=\"btn btn-default btn-xs\"><i class=\"fa-step-forward fa\"></i><span class=\"toolbar-btn-label\">Run</span></button> toolbar button.  \n",
    "\n",
    "Ready? Let's give it a try. Select the following code cell and try running it with `Shift-Enter`:"
   ]
  },
  {
   "cell_type": "code",
   "execution_count": null,
   "metadata": {
    "deletable": false,
    "editable": false
   },
   "outputs": [],
   "source": [
    "1 + 1"
   ]
  },
  {
   "cell_type": "markdown",
   "metadata": {
    "deletable": false,
    "editable": false,
    "run_control": {
     "frozen": true
    }
   },
   "source": [
    "If it worked, you should see something like... <span style=\"color: red;\">Out[1]:</span> 2\n",
    "\n",
    "`Out` means this is the output of the cell.  \n",
    "`[1]` means this is the first cell you ran.  \n",
    "`2` is the result of the last command in the last cell. (ie. the result of 1 + 1)\n",
    "\n",
    "Note that code cells cannot be changed. No worries, you'll have a chance to write your own python later.\n",
    "\n",
    "Now, let's try creating and updating a variable. Run these two cells with `Shift-Enter`"
   ]
  },
  {
   "cell_type": "code",
   "execution_count": null,
   "metadata": {
    "deletable": false,
    "editable": false
   },
   "outputs": [],
   "source": [
    "msg = \"Hello\""
   ]
  },
  {
   "cell_type": "code",
   "execution_count": null,
   "metadata": {
    "deletable": false,
    "editable": false
   },
   "outputs": [],
   "source": [
    "msg + \" World\""
   ]
  },
  {
   "cell_type": "markdown",
   "metadata": {
    "deletable": false,
    "editable": false,
    "run_control": {
     "frozen": true
    }
   },
   "source": [
    "So what happened? When you ran the first cell a variable named `msg` was created with the value `\"Hello\"`. The second cell updated the `msg` variable by concatenating the string `\" World\"`. Let's try it again in the next cell:"
   ]
  },
  {
   "cell_type": "code",
   "execution_count": null,
   "metadata": {
    "deletable": false,
    "editable": false
   },
   "outputs": [],
   "source": [
    "msg + \" Application Framework!\""
   ]
  },
  {
   "cell_type": "markdown",
   "metadata": {
    "deletable": false,
    "editable": false,
    "run_control": {
     "frozen": true
    }
   },
   "source": [
    "### Note:\n",
    "\n",
    "- A code cell that is running will display `[*]` on the left.\n",
    "- A code cell that has yet to be executed will display `[ ]`.\n",
    "- After a code cell is executed, a number (eg `[3]`) will display indicating the order in which it was run during the execution of the notebook.\n",
    "\n",
    "**IMPORTANT:** If you run the cells out of order things can get a little confusing, because you won't know what variables were created. Use the number in square brackets (eg `[3]`) to see in what order the cells were run, or use the variable inspector to see current variables by clicking the <button class=\"btn btn-default btn-xs\"><i class=\"fa-crosshairs fa\"></i></button> button in the toolbar. If you get stuck, just reset the notebook by navigating to **Kernel -> Restart & Clear Output** in the menu above and run things in order again. This restart only clears the variables in memory, you won't lose any code you've typed."
   ]
  },
  {
   "cell_type": "markdown",
   "metadata": {},
   "source": [
    "### 2. How to reset everything\n",
    "\n",
    "If you get stuck, confused, or just want to try a notebook again from the beginning, navigate to **Kernel** -> **Restart & Clear Output** in the menu above to reset python, clearning out all variables and imports. This restart only clears the variables in memory, you won't lose any code you've typed.\n",
    "\n",
    "### 3. How to switch notebooks\n",
    "\n",
    "Click the <button class=\"btn btn-default btn-xs\"><i class=\"fa-save fa\"></i></button> button on the left of the toolbar, or navigate to **File** -> **Save and Checkpoint**\n",
    "\n",
    "Then navigate to **File** -> **Close and Halt** and pick another notebook to open.\n",
    "\n",
    "### 4. Tab complete\n",
    "\n",
    "Use the `Tab` key to auto-complete or get a menu of methods and variables. Try pressing tab very frequently, it will seldom fill in anything you don't want.\n",
    "\n",
    "In the next cell, try placing your cursor after the period in `str.` and press tab for a list of string methods."
   ]
  },
  {
   "cell_type": "code",
   "execution_count": null,
   "metadata": {
    "deletable": false,
    "editable": false
   },
   "outputs": [],
   "source": [
    "str."
   ]
  },
  {
   "cell_type": "markdown",
   "metadata": {
    "deletable": false,
    "editable": false,
    "run_control": {
     "frozen": true
    }
   },
   "source": [
    "## Dependencies\n",
    "\n",
    "This notebook comes pre-packaged with a special, demo version of `pancloud` that provides a simulated Application Framework experience. No additional dependencies are required!"
   ]
  },
  {
   "cell_type": "markdown",
   "metadata": {
    "deletable": false,
    "editable": false,
    "run_control": {
     "frozen": true
    }
   },
   "source": [
    "## Next steps\n",
    "\n",
    "Now that you're up to speed on using Jupyter Notebooks, let's proceed to [Lesson 2 - Credentials](Lesson 2 - Credentials.ipynb)."
   ]
  },
  {
   "cell_type": "code",
   "execution_count": null,
   "metadata": {},
   "outputs": [],
   "source": []
  }
 ],
 "metadata": {
  "kernelspec": {
   "display_name": "Python 3",
   "language": "python",
   "name": "python3"
  },
  "language_info": {
   "codemirror_mode": {
    "name": "ipython",
    "version": 3
   },
   "file_extension": ".py",
   "mimetype": "text/x-python",
   "name": "python",
   "nbconvert_exporter": "python",
   "pygments_lexer": "ipython3",
   "version": "3.6.4"
  },
  "varInspector": {
   "cols": {
    "lenName": 16.0,
    "lenType": 16.0,
    "lenVar": 40.0
   },
   "kernels_config": {
    "python": {
     "delete_cmd_postfix": "",
     "delete_cmd_prefix": "del ",
     "library": "var_list.py",
     "varRefreshCmd": "print(var_dic_list())"
    },
    "r": {
     "delete_cmd_postfix": ") ",
     "delete_cmd_prefix": "rm(",
     "library": "var_list.r",
     "varRefreshCmd": "cat(var_dic_list()) "
    }
   },
   "types_to_exclude": [
    "module",
    "function",
    "builtin_function_or_method",
    "instance",
    "_Feature"
   ],
   "window_display": false
  }
 },
 "nbformat": 4,
 "nbformat_minor": 2
}
