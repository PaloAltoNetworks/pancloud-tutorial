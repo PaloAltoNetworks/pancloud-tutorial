{
 "cells": [
  {
   "cell_type": "markdown",
   "metadata": {
    "deletable": false,
    "editable": false,
    "run_control": {
     "frozen": true
    }
   },
   "source": [
    "# Lesson 2 - Credentials"
   ]
  },
  {
   "cell_type": "markdown",
   "metadata": {
    "deletable": false,
    "editable": false,
    "run_control": {
     "frozen": true
    }
   },
   "source": [
    "## Overview\n",
    "\n",
    "The Application Framework implements OAuth 2.0 for delegating access to your Logging, Event and Directory Sync services.\n",
    "\n",
    "The `pancloud` SDK comes packaged with OAuth 2.0 support to ease the process of:\n",
    "\n",
    "- Generating authorization URL\n",
    "- Exchanging authorization code for tokens (authorization code grant)\n",
    "- Refreshing tokens\n",
    "- Revoking tokens\n",
    "- Token caching\n",
    "- Using a custom credentials store (storage adapters)\n",
    "\n",
    "Let's step through the process of generating, accessing, storing and refreshing credentials.\n",
    "\n",
    "Run the following code cells using the <button class=\"btn btn-default btn-xs\"><i class=\"fa-step-forward fa\"></i><span class=\"toolbar-btn-label\">Run</span></button> button or `Shift-Enter`."
   ]
  },
  {
   "cell_type": "markdown",
   "metadata": {
    "deletable": false,
    "editable": false,
    "run_control": {
     "frozen": true
    }
   },
   "source": [
    "**Step 1: Import Credentials**  \n",
    "To get started, you will first need to import the `Credentials` class"
   ]
  },
  {
   "cell_type": "code",
   "execution_count": null,
   "metadata": {
    "deletable": false,
    "editable": false
   },
   "outputs": [],
   "source": [
    "from pancloud import Credentials"
   ]
  },
  {
   "cell_type": "markdown",
   "metadata": {
    "deletable": false,
    "editable": false,
    "run_control": {
     "frozen": true
    }
   },
   "source": [
    "**Step 2: Instantiate credentials class**  \n",
    "Create a credentials object using the supplied credentials."
   ]
  },
  {
   "cell_type": "code",
   "execution_count": null,
   "metadata": {
    "deletable": false,
    "editable": false
   },
   "outputs": [],
   "source": [
    "# Create a credentials object\n",
    "c = Credentials(\n",
    "    client_id='my_client_id',\n",
    "    client_secret='my_client_secret',\n",
    "    refresh_token='my_refresh_token'\n",
    ")"
   ]
  },
  {
   "cell_type": "markdown",
   "metadata": {
    "deletable": false,
    "editable": false,
    "run_control": {
     "frozen": true
    }
   },
   "source": [
    "At this point, the `Credentials` "
   ]
  },
  {
   "cell_type": "markdown",
   "metadata": {
    "deletable": false,
    "editable": false,
    "run_control": {
     "frozen": true
    }
   },
   "source": [
    "**Step 3: Accessing Properties**  \n",
    "The `Credentials` class provides easy access to your credentials."
   ]
  },
  {
   "cell_type": "code",
   "execution_count": null,
   "metadata": {
    "deletable": false,
    "editable": false,
    "scrolled": true
   },
   "outputs": [],
   "source": [
    "c.client_id"
   ]
  },
  {
   "cell_type": "code",
   "execution_count": null,
   "metadata": {
    "deletable": false,
    "editable": false,
    "run_control": {
     "frozen": true
    }
   },
   "outputs": [],
   "source": []
  },
  {
   "cell_type": "code",
   "execution_count": null,
   "metadata": {
    "deletable": false,
    "editable": false
   },
   "outputs": [],
   "source": [
    "c.client_secret"
   ]
  },
  {
   "cell_type": "markdown",
   "metadata": {
    "deletable": false,
    "editable": false,
    "run_control": {
     "frozen": true
    }
   },
   "source": []
  },
  {
   "cell_type": "code",
   "execution_count": null,
   "metadata": {
    "deletable": false,
    "editable": false
   },
   "outputs": [],
   "source": [
    "c.refresh_token"
   ]
  },
  {
   "cell_type": "markdown",
   "metadata": {
    "deletable": false,
    "editable": false,
    "run_control": {
     "frozen": true
    }
   },
   "source": [
    "Now check the firewall GUI again and click the refresh button (see screenshot) to see the newly created object.\n",
    "\n",
    "![Refresh Button](.images/refresh-button.png)"
   ]
  },
  {
   "cell_type": "markdown",
   "metadata": {
    "deletable": false,
    "editable": false,
    "run_control": {
     "frozen": true
    }
   },
   "source": [
    "## API Reference Documentation\n",
    "\n",
    "The [Device Framwork API Reference](http://pandevice.readthedocs.io) is an invaluable tool when using Device Framework for automation. It gives you information on all the parameters and [relationships between all the objects](http://pandevice.readthedocs.io/en/latest/configtree.html) in the library.\n",
    "\n",
    "You can access the documentation right here from the notebook in two easy ways:\n",
    "\n",
    "**1. In a configuration tree, click one of the objects.** Try this now on the config tree you displayed in the last section above. It will link to the documentation for that object.\n",
    "\n",
    "**2. Press `Shift-Tab` 2 times for pop-up documentation**, or 4 times for a panel with documentation while editing an object in python.  Try this now on the next cell."
   ]
  },
  {
   "cell_type": "code",
   "execution_count": null,
   "metadata": {
    "deletable": false,
    "editable": false
   },
   "outputs": [],
   "source": [
    "# Click on the text 'AddressObject()' on the next line of code\n",
    "# to move the cursor onto it, then press Shift-Tab twice.\n",
    "obj = objects.AddressObject()"
   ]
  },
  {
   "cell_type": "markdown",
   "metadata": {
    "deletable": false,
    "editable": false,
    "run_control": {
     "frozen": true
    },
    "solution2": "hidden",
    "solution2_first": true
   },
   "source": [
    "## Exercise 1: Create an Address Object\n",
    "\n",
    "Create an address object using the techniques you learned in this lesson. You can name it anything you want, but make sure it is an **fqdn type** object with the match **value** `facebook.com`. It should have a **description** of 'Social media'. Once the address object is created in python, use that object to create the address object on the live firewall to complete this exercise. Your answer should have the following steps:\n",
    "\n",
    "1. Import the needed pandevice libraries\n",
    "2. Create a Firewall object with the IP, username, and password of the firewall\n",
    "3. Create an AddressObject\n",
    "4. Add the AddressObject as a child of the Firewall object\n",
    "5. Create the AddressObject on the live firewall\n",
    "\n",
    "Hint: Use the [API Reference Documentation](http://pandevice.readthedocs.io/) or the `Shift-Tab` trick from the last section to figure out how to create an fqdn type address object. Everything you need is in the examples above, so try not to show the solution until you're ready to check your answer."
   ]
  },
  {
   "cell_type": "code",
   "execution_count": null,
   "metadata": {
    "deletable": false,
    "editable": false,
    "run_control": {
     "frozen": true
    },
    "solution2": "hidden"
   },
   "outputs": [],
   "source": [
    "from pandevice import firewall, objects\n",
    "fw = firewall.Firewall('10.30.11.101', 'admin', 'Ignite18')\n",
    "facebook = objects.AddressObject('My-Facebook-object',\n",
    "                                 'facebook.com',\n",
    "                                 type='fqdn',\n",
    "                                 description='Social media')\n",
    "fw.add(facebook)\n",
    "facebook.create()"
   ]
  },
  {
   "cell_type": "code",
   "execution_count": null,
   "metadata": {},
   "outputs": [],
   "source": [
    "# Exercise 1 answer here...\n",
    "\n",
    "\n",
    "\n",
    "\n",
    "\n",
    "\n"
   ]
  },
  {
   "cell_type": "markdown",
   "metadata": {
    "deletable": false,
    "editable": false,
    "run_control": {
     "frozen": true
    }
   },
   "source": [
    "Validate your answer by refreshing the list of addresses in the firewall GUI. Your address object should appear like this:\n",
    "\n",
    "![Valid FQDN Address Object](.images/validate-getting-started.png)"
   ]
  },
  {
   "cell_type": "markdown",
   "metadata": {
    "deletable": false,
    "editable": false,
    "run_control": {
     "frozen": true
    }
   },
   "source": [
    "## Next step\n",
    "\n",
    "You've got the basics, now lets have some fun. Continue to [Lesson 3 - Configure and Commit](Lesson 3 - Configure and Commit.ipynb) to push some complex configuration and commit it."
   ]
  }
 ],
 "metadata": {
  "kernelspec": {
   "display_name": "Python 3",
   "language": "python",
   "name": "python3"
  },
  "language_info": {
   "codemirror_mode": {
    "name": "ipython",
    "version": 3
   },
   "file_extension": ".py",
   "mimetype": "text/x-python",
   "name": "python",
   "nbconvert_exporter": "python",
   "pygments_lexer": "ipython3",
   "version": "3.7.0"
  },
  "varInspector": {
   "cols": {
    "lenName": 16,
    "lenType": 16,
    "lenVar": 40
   },
   "kernels_config": {
    "python": {
     "delete_cmd_postfix": "",
     "delete_cmd_prefix": "del ",
     "library": "var_list.py",
     "varRefreshCmd": "print(var_dic_list())"
    },
    "r": {
     "delete_cmd_postfix": ") ",
     "delete_cmd_prefix": "rm(",
     "library": "var_list.r",
     "varRefreshCmd": "cat(var_dic_list()) "
    }
   },
   "oldHeight": 123,
   "position": {
    "height": "314px",
    "left": "870px",
    "right": "136px",
    "top": "120px",
    "width": "323px"
   },
   "types_to_exclude": [
    "module",
    "function",
    "builtin_function_or_method",
    "instance",
    "_Feature"
   ],
   "varInspector_section_display": "block",
   "window_display": false
  }
 },
 "nbformat": 4,
 "nbformat_minor": 2
}
