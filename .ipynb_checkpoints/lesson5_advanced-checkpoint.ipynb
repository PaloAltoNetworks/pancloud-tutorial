{
 "cells": [
  {
   "cell_type": "markdown",
   "metadata": {
    "deletable": false,
    "editable": false,
    "run_control": {
     "frozen": true
    }
   },
   "source": [
    "# Lesson 5 - Advanced Queries"
   ]
  },
  {
   "cell_type": "markdown",
   "metadata": {
    "cell_style": "center",
    "deletable": false,
    "editable": false,
    "run_control": {
     "frozen": true
    }
   },
   "source": [
    "## Overview\n",
    "\n",
    "In Lesson 3 you stepped through a basic Logging Service `query` and `poll` example. You may have noticed we provided a SQL statement in the JSON payload we passed using the `query()` method. Although the Logging Service provides support for the SQL language, this support is limited to a partial implementation of the `SQL SELECT` statement and some common operators and functions.\n",
    "\n",
    "In this lesson we'll step through a few more examples demonstrating the use of some of these SQL functions and operators."
   ]
  },
  {
   "cell_type": "markdown",
   "metadata": {},
   "source": [
    "**Step 1: Import**\n",
    "First let's start by importing `LoggingService` and `Credentials`"
   ]
  },
  {
   "cell_type": "code",
   "execution_count": 1,
   "metadata": {
    "ExecuteTime": {
     "end_time": "2018-08-08T04:05:15.949126Z",
     "start_time": "2018-08-08T04:05:15.875699Z"
    }
   },
   "outputs": [],
   "source": [
    "from pancloud import LoggingService, Credentials"
   ]
  },
  {
   "cell_type": "markdown",
   "metadata": {},
   "source": [
    "**Step 2: Instantiate**\n",
    "Next we'll create our `LoggingService` instance"
   ]
  },
  {
   "cell_type": "code",
   "execution_count": 2,
   "metadata": {
    "ExecuteTime": {
     "end_time": "2018-08-08T04:05:18.091379Z",
     "start_time": "2018-08-08T04:05:18.081655Z"
    }
   },
   "outputs": [],
   "source": [
    "# API Gateway URL\n",
    "url = 'https://apigw-stg4.us.paloaltonetworks.com'\n",
    "\n",
    "ls = LoggingService(url=url, credentials=Credentials())"
   ]
  },
  {
   "cell_type": "code",
   "execution_count": 3,
   "metadata": {
    "ExecuteTime": {
     "end_time": "2018-08-08T04:05:21.707191Z",
     "start_time": "2018-08-08T04:05:21.067267Z"
    }
   },
   "outputs": [],
   "source": [
    "d = {\n",
    "    \"query\": \"SELECT * FROM panw.traffic WHERE category-of-app = 'networking' LIMIT 5\",\n",
    "    \"startTime\": 0,  # 1970\n",
    "    \"endTime\": 1609459200,  # 2021\n",
    "    \"maxWaitTime\": 0  # guarantees no logs in initial response\n",
    "}\n",
    "\n",
    "# Query the Logging Service\n",
    "q = ls.query(json=d)"
   ]
  },
  {
   "cell_type": "markdown",
   "metadata": {},
   "source": [
    "Let's take a peek at the raw json response"
   ]
  },
  {
   "cell_type": "code",
   "execution_count": 4,
   "metadata": {
    "ExecuteTime": {
     "end_time": "2018-08-08T04:05:23.826280Z",
     "start_time": "2018-08-08T04:05:23.817144Z"
    }
   },
   "outputs": [
    {
     "data": {
      "text/plain": [
       "'{\"queryId\":\"d8340081-397d-406a-ad98-c7f37b14ea35\",\"sequenceNo\":0,\"queryStatus\":\"RUNNING\",\"clientParameters\":{},\"result\":{\"esResult\":null,\"esQuery\":{\"table\":[\"panw.traffic\"],\"query\":{\"aggregations\":{},\"query\":{\"term\":{\"{{field_0}}\":\"{{value_0}}\"}},\"size\":5},\"selections\":[],\"params\":{\"field_0\":\"category-of-app\",\"value_0\":\"networking\"}}}}'"
      ]
     },
     "execution_count": 4,
     "metadata": {},
     "output_type": "execute_result"
    }
   ],
   "source": [
    "q.text"
   ]
  },
  {
   "cell_type": "markdown",
   "metadata": {},
   "source": [
    "Use the built-in `json()` method to convert the raw response into a python `dict` object."
   ]
  },
  {
   "cell_type": "code",
   "execution_count": 5,
   "metadata": {
    "ExecuteTime": {
     "end_time": "2018-08-08T04:05:32.574934Z",
     "start_time": "2018-08-08T04:05:32.571950Z"
    }
   },
   "outputs": [],
   "source": [
    "r = q.json()"
   ]
  },
  {
   "cell_type": "code",
   "execution_count": 6,
   "metadata": {
    "ExecuteTime": {
     "end_time": "2018-08-08T04:05:36.953247Z",
     "start_time": "2018-08-08T04:05:36.948409Z"
    }
   },
   "outputs": [
    {
     "data": {
      "text/plain": [
       "{'queryId': 'd8340081-397d-406a-ad98-c7f37b14ea35',\n",
       " 'sequenceNo': 0,\n",
       " 'queryStatus': 'RUNNING',\n",
       " 'clientParameters': {},\n",
       " 'result': {'esResult': None,\n",
       "  'esQuery': {'table': ['panw.traffic'],\n",
       "   'query': {'aggregations': {},\n",
       "    'query': {'term': {'{{field_0}}': '{{value_0}}'}},\n",
       "    'size': 5},\n",
       "   'selections': [],\n",
       "   'params': {'field_0': 'category-of-app', 'value_0': 'networking'}}}}"
      ]
     },
     "execution_count": 6,
     "metadata": {},
     "output_type": "execute_result"
    }
   ],
   "source": [
    "r"
   ]
  },
  {
   "cell_type": "code",
   "execution_count": null,
   "metadata": {},
   "outputs": [],
   "source": []
  }
 ],
 "metadata": {
  "kernelspec": {
   "display_name": "Python 3",
   "language": "python",
   "name": "python3"
  },
  "language_info": {
   "codemirror_mode": {
    "name": "ipython",
    "version": 3
   },
   "file_extension": ".py",
   "mimetype": "text/x-python",
   "name": "python",
   "nbconvert_exporter": "python",
   "pygments_lexer": "ipython3",
   "version": "3.7.0"
  },
  "varInspector": {
   "cols": {
    "lenName": 16,
    "lenType": 16,
    "lenVar": 40
   },
   "kernels_config": {
    "python": {
     "delete_cmd_postfix": "",
     "delete_cmd_prefix": "del ",
     "library": "var_list.py",
     "varRefreshCmd": "print(var_dic_list())"
    },
    "r": {
     "delete_cmd_postfix": ") ",
     "delete_cmd_prefix": "rm(",
     "library": "var_list.r",
     "varRefreshCmd": "cat(var_dic_list()) "
    }
   },
   "oldHeight": 123,
   "position": {
    "height": "314px",
    "left": "895px",
    "right": "101px",
    "top": "138px",
    "width": "323px"
   },
   "types_to_exclude": [
    "module",
    "function",
    "builtin_function_or_method",
    "instance",
    "_Feature"
   ],
   "varInspector_section_display": "block",
   "window_display": false
  }
 },
 "nbformat": 4,
 "nbformat_minor": 2
}
